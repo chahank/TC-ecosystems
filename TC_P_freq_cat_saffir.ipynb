{
 "cells": [
  {
   "cell_type": "markdown",
   "id": "74c4e67b-a209-4b25-8ab9-80a4b7ecdfbb",
   "metadata": {},
   "source": [
    "This notebook, together with the methods in the file `helper_methods.py` serve to create the frequency distribution map that are used to define the ecosystems' vulnerability and risk under climate change.\n",
    "\n",
    "The data folder paths can be adjusted in the file `helper_methods.py`. The central data are the STORM-B and STORM-C tropical cyclone windfields that can be generated using the open source software CLIMADA from the tracks provided by Bloemendaal et al. (2020) and (2022). The corresponding .hdf5 files should be stored in the folders `STORM_FOLDER/present/TC_STORM_{resolution}_global.hdf5'` and `STORM_FOLDER/future/TC_STORM_{gcm}_{resolution}_global.hdf5`. For Kropf et al. (2024) we used `gcm = ['CMCC-CM2-VHR4', 'CNRM-CM6-1-HR', 'EC-Earth3P-HR', 'HadGEM3-GC31-HM']` and `resolution=150as`."
   ]
  },
  {
   "cell_type": "markdown",
   "id": "453ec2a6-1e5e-4499-b04e-9362b7c1ddea",
   "metadata": {},
   "source": [
    "# TC to frequencies per category"
   ]
  },
  {
   "cell_type": "code",
   "execution_count": 6,
   "id": "3e474263-145b-41d6-864f-2b274a7ecdee",
   "metadata": {},
   "outputs": [
    {
     "name": "stdout",
     "output_type": "stream",
     "text": [
      "Read ecoreg freqs file\n",
      "Compute frequency quantiles for TC1\n",
      "Save quantiles to csv\n",
      "Compute frequency quantiles for TC2\n",
      "Save quantiles to csv\n",
      "Compute frequency quantiles for TC3\n",
      "Save quantiles to csv\n"
     ]
    }
   ],
   "source": [
    "from helper_methods import make_storm_freqs_quantile\n",
    "freqs_quantiles = make_storm_freqs_quantile(\n",
    "                        time='present',\n",
    "                        gcm='',\n",
    "                        to_file=True\n",
    "                    )"
   ]
  },
  {
   "cell_type": "code",
   "execution_count": 7,
   "id": "788e3723-4ba6-40cc-9479-99b040eb37b7",
   "metadata": {},
   "outputs": [
    {
     "name": "stdout",
     "output_type": "stream",
     "text": [
      "Read ecoreg freqs file\n",
      "Compute frequency quantiles for TC1\n",
      "Save quantiles to csv\n",
      "Compute frequency quantiles for TC2\n",
      "Save quantiles to csv\n",
      "Compute frequency quantiles for TC3\n",
      "Save quantiles to csv\n",
      "Read ecoreg freqs file\n",
      "Compute frequency quantiles for TC1\n",
      "Save quantiles to csv\n",
      "Compute frequency quantiles for TC2\n",
      "Save quantiles to csv\n",
      "Compute frequency quantiles for TC3\n",
      "Save quantiles to csv\n",
      "Read ecoreg freqs file\n",
      "Compute frequency quantiles for TC1\n",
      "Save quantiles to csv\n",
      "Compute frequency quantiles for TC2\n",
      "Save quantiles to csv\n",
      "Compute frequency quantiles for TC3\n",
      "Save quantiles to csv\n",
      "Read ecoreg freqs file\n",
      "Compute frequency quantiles for TC1\n",
      "Save quantiles to csv\n",
      "Compute frequency quantiles for TC2\n",
      "Save quantiles to csv\n",
      "Compute frequency quantiles for TC3\n",
      "Save quantiles to csv\n"
     ]
    }
   ],
   "source": [
    "from helper_methods import GCM\n",
    "for gcm in GCM:\n",
    "    freqs_quantiles = make_storm_freqs_quantile(\n",
    "                        time='future',\n",
    "                        gcm=gcm,\n",
    "                        to_file=True\n",
    "                    )"
   ]
  },
  {
   "cell_type": "code",
   "execution_count": null,
   "id": "2c2ea620-e9cf-4a7e-8a22-0551d1491029",
   "metadata": {},
   "outputs": [],
   "source": [
    "from helper_methods import make_ecoreg_geoms_in_centroids\n",
    "make_ecoreg_geoms_in_centroids('present', '', to_file=True)"
   ]
  }
 ],
 "metadata": {
  "hide_input": false,
  "kernelspec": {
   "display_name": "Python 3 (ipykernel)",
   "language": "python",
   "name": "python3"
  },
  "language_info": {
   "codemirror_mode": {
    "name": "ipython",
    "version": 3
   },
   "file_extension": ".py",
   "mimetype": "text/x-python",
   "name": "python",
   "nbconvert_exporter": "python",
   "pygments_lexer": "ipython3",
   "version": "3.11.7"
  },
  "latex_envs": {
   "LaTeX_envs_menu_present": true,
   "autoclose": false,
   "autocomplete": true,
   "bibliofile": "biblio.bib",
   "cite_by": "apalike",
   "current_citInitial": 1,
   "eqLabelWithNumbers": true,
   "eqNumInitial": 1,
   "hotkeys": {
    "equation": "Ctrl-E",
    "itemize": "Ctrl-I"
   },
   "labels_anchors": false,
   "latex_user_defs": false,
   "report_style_numbering": false,
   "user_envs_cfg": false
  },
  "toc": {
   "base_numbering": 1,
   "nav_menu": {},
   "number_sections": true,
   "sideBar": true,
   "skip_h1_title": false,
   "title_cell": "Table of Contents",
   "title_sidebar": "Contents",
   "toc_cell": false,
   "toc_position": {},
   "toc_section_display": true,
   "toc_window_display": false
  }
 },
 "nbformat": 4,
 "nbformat_minor": 5
}
